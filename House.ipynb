{
 "cells": [
  {
   "cell_type": "markdown",
   "id": "5dfb70d8",
   "metadata": {},
   "source": [
    "## Planejamento da solução:"
   ]
  },
  {
   "cell_type": "markdown",
   "id": "104ca486",
   "metadata": {},
   "source": [
    "* Produto Final (o que eu vou entregar? Planilha, modelo de ML)\n",
    "    * Email + 3 anexos\n",
    "    * Arquivo .csv\n",
    "    * Mapa com filtros requisitados\n",
    "    * Dashboard com os filtros requisitados\n",
    "* Ferramentas (qual a ferramenta que eu vou usar?)\n",
    "* Processo (Como fazer?)"
   ]
  },
  {
   "cell_type": "code",
   "execution_count": 28,
   "id": "544e8971",
   "metadata": {},
   "outputs": [],
   "source": [
    "import pandas as pd\n",
    "from geopy.geocoders import  Nominatim\n",
    "import plotly.express as px\n",
    "import ipywidgets as widgets\n",
    "from ipywidgetes import fixed\n",
    "from matplotlib import gridspec\n",
    "from matplotlib import pyplot as plt"
   ]
  },
  {
   "cell_type": "code",
   "execution_count": 29,
   "id": "f316d1b7",
   "metadata": {},
   "outputs": [
    {
     "ename": "PermissionError",
     "evalue": "[Errno 13] Permission denied: 'C:\\\\Users\\\\06564176686\\\\repos\\\\House_Rocket_EDA\\\\data'",
     "output_type": "error",
     "traceback": [
      "\u001b[1;31m---------------------------------------------------------------------------\u001b[0m",
      "\u001b[1;31mPermissionError\u001b[0m                           Traceback (most recent call last)",
      "\u001b[1;32m<ipython-input-29-768d6eaea80f>\u001b[0m in \u001b[0;36m<module>\u001b[1;34m\u001b[0m\n\u001b[1;32m----> 1\u001b[1;33m \u001b[0mdf1\u001b[0m \u001b[1;33m=\u001b[0m \u001b[0mpd\u001b[0m\u001b[1;33m.\u001b[0m\u001b[0mread_csv\u001b[0m\u001b[1;33m(\u001b[0m\u001b[1;34mr'C:\\Users\\06564176686\\repos\\House_Rocket_EDA\\data'\u001b[0m\u001b[1;33m)\u001b[0m\u001b[1;33m\u001b[0m\u001b[1;33m\u001b[0m\u001b[0m\n\u001b[0m",
      "\u001b[1;32m~\\Anaconda3\\lib\\site-packages\\pandas\\io\\parsers.py\u001b[0m in \u001b[0;36mread_csv\u001b[1;34m(filepath_or_buffer, sep, delimiter, header, names, index_col, usecols, squeeze, prefix, mangle_dupe_cols, dtype, engine, converters, true_values, false_values, skipinitialspace, skiprows, skipfooter, nrows, na_values, keep_default_na, na_filter, verbose, skip_blank_lines, parse_dates, infer_datetime_format, keep_date_col, date_parser, dayfirst, cache_dates, iterator, chunksize, compression, thousands, decimal, lineterminator, quotechar, quoting, doublequote, escapechar, comment, encoding, dialect, error_bad_lines, warn_bad_lines, delim_whitespace, low_memory, memory_map, float_precision, storage_options)\u001b[0m\n\u001b[0;32m    608\u001b[0m     \u001b[0mkwds\u001b[0m\u001b[1;33m.\u001b[0m\u001b[0mupdate\u001b[0m\u001b[1;33m(\u001b[0m\u001b[0mkwds_defaults\u001b[0m\u001b[1;33m)\u001b[0m\u001b[1;33m\u001b[0m\u001b[1;33m\u001b[0m\u001b[0m\n\u001b[0;32m    609\u001b[0m \u001b[1;33m\u001b[0m\u001b[0m\n\u001b[1;32m--> 610\u001b[1;33m     \u001b[1;32mreturn\u001b[0m \u001b[0m_read\u001b[0m\u001b[1;33m(\u001b[0m\u001b[0mfilepath_or_buffer\u001b[0m\u001b[1;33m,\u001b[0m \u001b[0mkwds\u001b[0m\u001b[1;33m)\u001b[0m\u001b[1;33m\u001b[0m\u001b[1;33m\u001b[0m\u001b[0m\n\u001b[0m\u001b[0;32m    611\u001b[0m \u001b[1;33m\u001b[0m\u001b[0m\n\u001b[0;32m    612\u001b[0m \u001b[1;33m\u001b[0m\u001b[0m\n",
      "\u001b[1;32m~\\Anaconda3\\lib\\site-packages\\pandas\\io\\parsers.py\u001b[0m in \u001b[0;36m_read\u001b[1;34m(filepath_or_buffer, kwds)\u001b[0m\n\u001b[0;32m    460\u001b[0m \u001b[1;33m\u001b[0m\u001b[0m\n\u001b[0;32m    461\u001b[0m     \u001b[1;31m# Create the parser.\u001b[0m\u001b[1;33m\u001b[0m\u001b[1;33m\u001b[0m\u001b[1;33m\u001b[0m\u001b[0m\n\u001b[1;32m--> 462\u001b[1;33m     \u001b[0mparser\u001b[0m \u001b[1;33m=\u001b[0m \u001b[0mTextFileReader\u001b[0m\u001b[1;33m(\u001b[0m\u001b[0mfilepath_or_buffer\u001b[0m\u001b[1;33m,\u001b[0m \u001b[1;33m**\u001b[0m\u001b[0mkwds\u001b[0m\u001b[1;33m)\u001b[0m\u001b[1;33m\u001b[0m\u001b[1;33m\u001b[0m\u001b[0m\n\u001b[0m\u001b[0;32m    463\u001b[0m \u001b[1;33m\u001b[0m\u001b[0m\n\u001b[0;32m    464\u001b[0m     \u001b[1;32mif\u001b[0m \u001b[0mchunksize\u001b[0m \u001b[1;32mor\u001b[0m \u001b[0miterator\u001b[0m\u001b[1;33m:\u001b[0m\u001b[1;33m\u001b[0m\u001b[1;33m\u001b[0m\u001b[0m\n",
      "\u001b[1;32m~\\Anaconda3\\lib\\site-packages\\pandas\\io\\parsers.py\u001b[0m in \u001b[0;36m__init__\u001b[1;34m(self, f, engine, **kwds)\u001b[0m\n\u001b[0;32m    817\u001b[0m             \u001b[0mself\u001b[0m\u001b[1;33m.\u001b[0m\u001b[0moptions\u001b[0m\u001b[1;33m[\u001b[0m\u001b[1;34m\"has_index_names\"\u001b[0m\u001b[1;33m]\u001b[0m \u001b[1;33m=\u001b[0m \u001b[0mkwds\u001b[0m\u001b[1;33m[\u001b[0m\u001b[1;34m\"has_index_names\"\u001b[0m\u001b[1;33m]\u001b[0m\u001b[1;33m\u001b[0m\u001b[1;33m\u001b[0m\u001b[0m\n\u001b[0;32m    818\u001b[0m \u001b[1;33m\u001b[0m\u001b[0m\n\u001b[1;32m--> 819\u001b[1;33m         \u001b[0mself\u001b[0m\u001b[1;33m.\u001b[0m\u001b[0m_engine\u001b[0m \u001b[1;33m=\u001b[0m \u001b[0mself\u001b[0m\u001b[1;33m.\u001b[0m\u001b[0m_make_engine\u001b[0m\u001b[1;33m(\u001b[0m\u001b[0mself\u001b[0m\u001b[1;33m.\u001b[0m\u001b[0mengine\u001b[0m\u001b[1;33m)\u001b[0m\u001b[1;33m\u001b[0m\u001b[1;33m\u001b[0m\u001b[0m\n\u001b[0m\u001b[0;32m    820\u001b[0m \u001b[1;33m\u001b[0m\u001b[0m\n\u001b[0;32m    821\u001b[0m     \u001b[1;32mdef\u001b[0m \u001b[0mclose\u001b[0m\u001b[1;33m(\u001b[0m\u001b[0mself\u001b[0m\u001b[1;33m)\u001b[0m\u001b[1;33m:\u001b[0m\u001b[1;33m\u001b[0m\u001b[1;33m\u001b[0m\u001b[0m\n",
      "\u001b[1;32m~\\Anaconda3\\lib\\site-packages\\pandas\\io\\parsers.py\u001b[0m in \u001b[0;36m_make_engine\u001b[1;34m(self, engine)\u001b[0m\n\u001b[0;32m   1048\u001b[0m             )\n\u001b[0;32m   1049\u001b[0m         \u001b[1;31m# error: Too many arguments for \"ParserBase\"\u001b[0m\u001b[1;33m\u001b[0m\u001b[1;33m\u001b[0m\u001b[1;33m\u001b[0m\u001b[0m\n\u001b[1;32m-> 1050\u001b[1;33m         \u001b[1;32mreturn\u001b[0m \u001b[0mmapping\u001b[0m\u001b[1;33m[\u001b[0m\u001b[0mengine\u001b[0m\u001b[1;33m]\u001b[0m\u001b[1;33m(\u001b[0m\u001b[0mself\u001b[0m\u001b[1;33m.\u001b[0m\u001b[0mf\u001b[0m\u001b[1;33m,\u001b[0m \u001b[1;33m**\u001b[0m\u001b[0mself\u001b[0m\u001b[1;33m.\u001b[0m\u001b[0moptions\u001b[0m\u001b[1;33m)\u001b[0m  \u001b[1;31m# type: ignore[call-arg]\u001b[0m\u001b[1;33m\u001b[0m\u001b[1;33m\u001b[0m\u001b[0m\n\u001b[0m\u001b[0;32m   1051\u001b[0m \u001b[1;33m\u001b[0m\u001b[0m\n\u001b[0;32m   1052\u001b[0m     \u001b[1;32mdef\u001b[0m \u001b[0m_failover_to_python\u001b[0m\u001b[1;33m(\u001b[0m\u001b[0mself\u001b[0m\u001b[1;33m)\u001b[0m\u001b[1;33m:\u001b[0m\u001b[1;33m\u001b[0m\u001b[1;33m\u001b[0m\u001b[0m\n",
      "\u001b[1;32m~\\Anaconda3\\lib\\site-packages\\pandas\\io\\parsers.py\u001b[0m in \u001b[0;36m__init__\u001b[1;34m(self, src, **kwds)\u001b[0m\n\u001b[0;32m   1865\u001b[0m \u001b[1;33m\u001b[0m\u001b[0m\n\u001b[0;32m   1866\u001b[0m         \u001b[1;31m# open handles\u001b[0m\u001b[1;33m\u001b[0m\u001b[1;33m\u001b[0m\u001b[1;33m\u001b[0m\u001b[0m\n\u001b[1;32m-> 1867\u001b[1;33m         \u001b[0mself\u001b[0m\u001b[1;33m.\u001b[0m\u001b[0m_open_handles\u001b[0m\u001b[1;33m(\u001b[0m\u001b[0msrc\u001b[0m\u001b[1;33m,\u001b[0m \u001b[0mkwds\u001b[0m\u001b[1;33m)\u001b[0m\u001b[1;33m\u001b[0m\u001b[1;33m\u001b[0m\u001b[0m\n\u001b[0m\u001b[0;32m   1868\u001b[0m         \u001b[1;32massert\u001b[0m \u001b[0mself\u001b[0m\u001b[1;33m.\u001b[0m\u001b[0mhandles\u001b[0m \u001b[1;32mis\u001b[0m \u001b[1;32mnot\u001b[0m \u001b[1;32mNone\u001b[0m\u001b[1;33m\u001b[0m\u001b[1;33m\u001b[0m\u001b[0m\n\u001b[0;32m   1869\u001b[0m         \u001b[1;32mfor\u001b[0m \u001b[0mkey\u001b[0m \u001b[1;32min\u001b[0m \u001b[1;33m(\u001b[0m\u001b[1;34m\"storage_options\"\u001b[0m\u001b[1;33m,\u001b[0m \u001b[1;34m\"encoding\"\u001b[0m\u001b[1;33m,\u001b[0m \u001b[1;34m\"memory_map\"\u001b[0m\u001b[1;33m,\u001b[0m \u001b[1;34m\"compression\"\u001b[0m\u001b[1;33m)\u001b[0m\u001b[1;33m:\u001b[0m\u001b[1;33m\u001b[0m\u001b[1;33m\u001b[0m\u001b[0m\n",
      "\u001b[1;32m~\\Anaconda3\\lib\\site-packages\\pandas\\io\\parsers.py\u001b[0m in \u001b[0;36m_open_handles\u001b[1;34m(self, src, kwds)\u001b[0m\n\u001b[0;32m   1360\u001b[0m         \u001b[0mLet\u001b[0m \u001b[0mthe\u001b[0m \u001b[0mreaders\u001b[0m \u001b[0mopen\u001b[0m \u001b[0mIOHanldes\u001b[0m \u001b[0mafter\u001b[0m \u001b[0mthey\u001b[0m \u001b[0mare\u001b[0m \u001b[0mdone\u001b[0m \u001b[1;32mwith\u001b[0m \u001b[0mtheir\u001b[0m \u001b[0mpotential\u001b[0m \u001b[0mraises\u001b[0m\u001b[1;33m.\u001b[0m\u001b[1;33m\u001b[0m\u001b[1;33m\u001b[0m\u001b[0m\n\u001b[0;32m   1361\u001b[0m         \"\"\"\n\u001b[1;32m-> 1362\u001b[1;33m         self.handles = get_handle(\n\u001b[0m\u001b[0;32m   1363\u001b[0m             \u001b[0msrc\u001b[0m\u001b[1;33m,\u001b[0m\u001b[1;33m\u001b[0m\u001b[1;33m\u001b[0m\u001b[0m\n\u001b[0;32m   1364\u001b[0m             \u001b[1;34m\"r\"\u001b[0m\u001b[1;33m,\u001b[0m\u001b[1;33m\u001b[0m\u001b[1;33m\u001b[0m\u001b[0m\n",
      "\u001b[1;32m~\\Anaconda3\\lib\\site-packages\\pandas\\io\\common.py\u001b[0m in \u001b[0;36mget_handle\u001b[1;34m(path_or_buf, mode, encoding, compression, memory_map, is_text, errors, storage_options)\u001b[0m\n\u001b[0;32m    640\u001b[0m                 \u001b[0merrors\u001b[0m \u001b[1;33m=\u001b[0m \u001b[1;34m\"replace\"\u001b[0m\u001b[1;33m\u001b[0m\u001b[1;33m\u001b[0m\u001b[0m\n\u001b[0;32m    641\u001b[0m             \u001b[1;31m# Encoding\u001b[0m\u001b[1;33m\u001b[0m\u001b[1;33m\u001b[0m\u001b[1;33m\u001b[0m\u001b[0m\n\u001b[1;32m--> 642\u001b[1;33m             handle = open(\n\u001b[0m\u001b[0;32m    643\u001b[0m                 \u001b[0mhandle\u001b[0m\u001b[1;33m,\u001b[0m\u001b[1;33m\u001b[0m\u001b[1;33m\u001b[0m\u001b[0m\n\u001b[0;32m    644\u001b[0m                 \u001b[0mioargs\u001b[0m\u001b[1;33m.\u001b[0m\u001b[0mmode\u001b[0m\u001b[1;33m,\u001b[0m\u001b[1;33m\u001b[0m\u001b[1;33m\u001b[0m\u001b[0m\n",
      "\u001b[1;31mPermissionError\u001b[0m: [Errno 13] Permission denied: 'C:\\\\Users\\\\06564176686\\\\repos\\\\House_Rocket_EDA\\\\data'"
     ]
    }
   ],
   "source": [
    "df1 = pd.read_csv(r'C:\\Users\\06564176686\\repos\\House_Rocket_EDA\\data')\n"
   ]
  },
  {
   "cell_type": "code",
   "execution_count": null,
   "id": "e06c316a",
   "metadata": {},
   "outputs": [],
   "source": [
    "\n",
    "\n",
    "    "
   ]
  },
  {
   "cell_type": "code",
   "execution_count": 31,
   "id": "7748e638",
   "metadata": {},
   "outputs": [],
   "source": [
    "geolocator = Nominatim( user_agent='geoapiExercises' )\n"
   ]
  },
  {
   "cell_type": "code",
   "execution_count": 32,
   "id": "80f60b85",
   "metadata": {},
   "outputs": [],
   "source": [
    "response = geolocator.reverse('45.5112, -122.2566651')"
   ]
  },
  {
   "cell_type": "code",
   "execution_count": 33,
   "id": "fe35ac29",
   "metadata": {},
   "outputs": [
    {
     "name": "stdout",
     "output_type": "stream",
     "text": [
      "Southeast Louden Road\n",
      "Southeast Louden Road\n",
      "Southeast Louden Road\n",
      "Southeast Louden Road\n",
      "Southeast Louden Road\n",
      "Oregon\n"
     ]
    }
   ],
   "source": [
    "print( response.raw['address']['road'])\n",
    "print( response.raw['address']['road'])\n",
    "print( response.raw['address']['road'])\n",
    "print( response.raw['address']['road'])\n",
    "print( response.raw['address']['road'])\n",
    "print( response.raw['address']['state'])"
   ]
  },
  {
   "cell_type": "code",
   "execution_count": 23,
   "id": "ebeab082",
   "metadata": {},
   "outputs": [
    {
     "ename": "SyntaxError",
     "evalue": "(unicode error) 'unicodeescape' codec can't decode bytes in position 2-3: truncated \\UXXXXXXXX escape (<ipython-input-23-b37f200cccc8>, line 1)",
     "output_type": "error",
     "traceback": [
      "\u001b[1;36m  File \u001b[1;32m\"<ipython-input-23-b37f200cccc8>\"\u001b[1;36m, line \u001b[1;32m1\u001b[0m\n\u001b[1;33m    df1 = pd.read_csv('C:\\Users\\06564176686\\repos\\House_Rocket_EDA\\data.csv')\u001b[0m\n\u001b[1;37m                      ^\u001b[0m\n\u001b[1;31mSyntaxError\u001b[0m\u001b[1;31m:\u001b[0m (unicode error) 'unicodeescape' codec can't decode bytes in position 2-3: truncated \\UXXXXXXXX escape\n"
     ]
    }
   ],
   "source": [
    "df1 = pd.read_csv('C:\\Users\\06564176686\\repos\\House_Rocket_EDA\\data.csv')\n",
    "\n",
    "df1['road'] = 'NA'\n",
    "df1['house_number'] = 'NA'\n",
    "df1['city'] = 'NA'\n",
    "df1['county'] = 'NA'\n",
    "df1['state'] = 'NA'\n",
    "\n",
    "# API request\n",
    "geolocator = Nominatim( user_agent='geoapiExercises' )\n",
    "response = geolocator.reverse('45.5112, -122.2566651')\n",
    "\n",
    "\n",
    "\n",
    "\n",
    "df1.loc[0, 'house_number']  = response.raw['address']['house_number']\n",
    "df1.loc[0, 'road']          = response.raw['address']['road']\n",
    "df1.loc[0, 'nighborudhood'] = response.raw['address']['neighbourhood']\n",
    "df1.loc[0, 'city']          = response.raw['address']['city']\n",
    "df1.loc[0, 'county']        = response.raw['address']['county']\n",
    "df1.loc[0, 'state']         = response.raw['address']['state']"
   ]
  },
  {
   "cell_type": "markdown",
   "id": "fba0c324",
   "metadata": {},
   "source": [
    "## Filtros iterativos no mapa"
   ]
  },
  {
   "cell_type": "code",
   "execution_count": null,
   "id": "9a4b55de",
   "metadata": {},
   "outputs": [],
   "source": [
    "df1 = pd.read_csv('C:\\Users\\06564176686\\repos\\House_Rocket_EDA\\data')\n",
    "houses = df1[['id, 'lat', 'long, 'price']].copy()\n",
    "\n",
    "#popular houses com 'level' 0, 1,2,3 conforme price\n",
    "\n",
    "\n",
    "# fazer mapa\n",
    "fig = px.scatter_mapbox(houses,\n",
    "                        lat='lat',\n",
    "                        lon = 'long',\n",
    "                        color='level',\n",
    "                        size = 'price',\n",
    "                        color_continuous_scale = px.colors.cyclical.IceFire,\n",
    "                        size_max=15,\n",
    "                        zoom=10)\n",
    "\n",
    "fig.update_layout( mapbox_style='open-stree3t-map')\n",
    "fig.update_layout( height=600, margin={'r':0, 't':0, 'l':0, 'b':0})\n",
    "fig.show()\n",
    "\n",
    "                       \n",
    "\n"
   ]
  },
  {
   "cell_type": "code",
   "execution_count": null,
   "id": "c7cee4d3",
   "metadata": {},
   "outputs": [],
   "source": [
    "# Adicionando filtros iterativos\n",
    "\n",
    "style = {'description_width': 'initial'}\n",
    "\n",
    "price_limit = widgets.IntSlider(\n",
    "    value = 540000,\n",
    "    min = 75000,\n",
    "    max = 77000000,\n",
    "    step = 1,\n",
    "    description= 'Maximum Price',\n",
    "    disable = False,\n",
    "    style = style)\n",
    "\n",
    "waterfront_bar = widgets.Dropdown(\n",
    "    options = df1['is_waterfront'].unique().tolist(),\n",
    "    value='yes'\n",
    "    description='Water View',\n",
    "    disable=False)"
   ]
  },
  {
   "cell_type": "code",
   "execution_count": null,
   "id": "f649ad06",
   "metadata": {},
   "outputs": [],
   "source": [
    "# Iteratividade com o dashboard\n",
    "\n",
    "# change date format\n",
    "\n",
    "df['year'] = pd.to_datetime( df['date']).dt.strftime('%Y')\n",
    "df['date'] = pd.to_datetime( df['date']).dt.strftime('%Y-%m-%d')\n",
    "df['year_week'] = pd.to_datetime( df['date']).dt.strftime('%Y-%U')\n",
    "\n",
    "# widgets to control data\n",
    "data_limit = widgets.SelectionSlider(\n",
    "    options = df['date'].sort_values().uniques().tolist(),\n",
    "    value = '2014-12-01',\n",
    "    description = 'Disponivel',\n",
    "    continuous_update = False,\n",
    "    orientation= 'horizontal',\n",
    "    readout=True\n",
    ")\n",
    "\n",
    "def update_map(data, limit):\n",
    "    #filter data\n",
    "    df = data[data['date'] >= limit].copy()\n",
    "    \n",
    "    fig = plt.figure(figsize= (21,12))\n",
    "    specs = gridspec.GridSpec(ncols=2, nrows=2, figure = fig)\n",
    "    \n",
    "    ax1 = fig.add_subplot(specs[0,:])\n",
    "    ax2 = fig.add_subplot(specs[1,0]) \n",
    "    ax3 = fig.add_subplot(specs[1,1])\n",
    "    \n",
    "    by_year = df[['id', 'year']].groupby('year').sum().rest_index()\n",
    "    ax1.bar( by_year['year'], by_year['id'])\n",
    "    \n",
    "    by_day = df[['id', 'year']].groupby('date').mean().reset_index()\n",
    "    ax2.plot( by_day['date'], by_day['id'])\n",
    "    ax2.set_title('title: Avg Price by Day')\n",
    "    \n",
    "    by_week = df[['id', 'year_week']].groupby('year_week').sum().reset_index()\n",
    "    ax3.bar( by_week['year_week'], by_week['id'])\n",
    "    ax3.set_title('title: Avg Price by Week of Year')\n",
    "    \n",
    "    plt.xticks( rotation=60)\n"
   ]
  },
  {
   "cell_type": "code",
   "execution_count": null,
   "id": "6fcb0912",
   "metadata": {},
   "outputs": [],
   "source": []
  },
  {
   "cell_type": "code",
   "execution_count": null,
   "id": "cb152f67",
   "metadata": {},
   "outputs": [],
   "source": [
    "widgets.interactive(update_map, data=fixed(df), limit = date_limit)"
   ]
  }
 ],
 "metadata": {
  "kernelspec": {
   "display_name": "Python 3",
   "language": "python",
   "name": "python3"
  },
  "language_info": {
   "codemirror_mode": {
    "name": "ipython",
    "version": 3
   },
   "file_extension": ".py",
   "mimetype": "text/x-python",
   "name": "python",
   "nbconvert_exporter": "python",
   "pygments_lexer": "ipython3",
   "version": "3.8.8"
  }
 },
 "nbformat": 4,
 "nbformat_minor": 5
}
